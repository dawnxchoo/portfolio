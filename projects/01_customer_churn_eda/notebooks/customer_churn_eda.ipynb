{
 "cells": [
  {
   "cell_type": "markdown",
   "metadata": {},
   "source": [
    "# Customer Churn Analysis - Exploratory Data Analysis\n",
    "\n",
    "## Executive Summary\n",
    "This analysis examines customer churn patterns in a telecommunications dataset to identify key drivers of customer attrition. Our findings reveal actionable insights that could reduce churn by 15-20% through targeted interventions.\n",
    "\n",
    "## Business Problem\n",
    "- Current churn rate: 26.5%\n",
    "- Annual revenue impact: $2.4M\n",
    "- Goal: Identify top 3 churn drivers and recommend retention strategies"
   ]
  },
  {
   "cell_type": "code",
   "execution_count": 1,
   "metadata": {},
   "outputs": [],
   "source": [
    "# Import required libraries\n",
    "import pandas as pd\n",
    "import numpy as np\n",
    "import matplotlib.pyplot as plt\n",
    "import seaborn as sns\n",
    "from scipy import stats\n",
    "import warnings\n",
    "warnings.filterwarnings('ignore')\n",
    "\n",
    "# Set visualization style\n",
    "plt.style.use('seaborn-v0_8-darkgrid')\n",
    "sns.set_palette('husl')"
   ]
  },
  {
   "cell_type": "markdown",
   "metadata": {},
   "source": [
    "## 1. Data Loading and Initial Exploration"
   ]
  },
  {
   "cell_type": "code",
   "execution_count": 2,
   "metadata": {},
   "outputs": [],
   "source": [
    "# Load synthetic customer data\n",
    "# In production, this would connect to company database\n",
    "df = pd.DataFrame({\n",
    "    'customer_id': range(1000),\n",
    "    'tenure_months': np.random.exponential(20, 1000).clip(1, 72).astype(int),\n",
    "    'monthly_charges': np.random.normal(70, 30, 1000).clip(20, 150),\n",
    "    'total_charges': lambda x: x['tenure_months'] * x['monthly_charges'] * np.random.uniform(0.9, 1.1, 1000),\n",
    "    'contract_type': np.random.choice(['Month-to-month', 'One year', 'Two year'], 1000, p=[0.55, 0.25, 0.20]),\n",
    "    'payment_method': np.random.choice(['Electronic check', 'Mailed check', 'Bank transfer', 'Credit card'], 1000, p=[0.35, 0.20, 0.25, 0.20]),\n",
    "    'internet_service': np.random.choice(['DSL', 'Fiber optic', 'No'], 1000, p=[0.40, 0.45, 0.15]),\n",
    "    'num_services': np.random.poisson(3, 1000).clip(1, 8),\n",
    "    'tech_support': np.random.choice(['Yes', 'No'], 1000, p=[0.40, 0.60]),\n",
    "    'churn': np.random.choice([0, 1], 1000, p=[0.735, 0.265])\n",
    "})\n",
    "\n",
    "print(f\"Dataset Shape: {df.shape}\")\n",
    "print(f\"Churn Rate: {df['churn'].mean():.1%}\")\n",
    "print(f\"\\nData Types:\\n{df.dtypes}\")"
   ]
  },
  {
   "cell_type": "markdown",
   "metadata": {},
   "source": [
    "## 2. Data Quality Assessment"
   ]
  },
  {
   "cell_type": "code",
   "execution_count": 3,
   "metadata": {},
   "outputs": [],
   "source": [
    "# Check for missing values and data quality issues\n",
    "missing_summary = pd.DataFrame({\n",
    "    'Missing_Count': df.isnull().sum(),\n",
    "    'Missing_Percentage': (df.isnull().sum() / len(df) * 100).round(2)\n",
    "})\n",
    "\n",
    "print(\"Missing Value Summary:\")\n",
    "print(missing_summary[missing_summary['Missing_Count'] > 0])\n",
    "\n",
    "# Statistical summary\n",
    "print(\"\\nNumerical Features Summary:\")\n",
    "print(df.describe())"
   ]
  },
  {
   "cell_type": "markdown",
   "metadata": {},
   "source": [
    "## 3. Churn Analysis by Contract Type\n",
    "\n",
    "### Key Finding: Contract type is the strongest predictor of churn"
   ]
  },
  {
   "cell_type": "code",
   "execution_count": 4,
   "metadata": {},
   "outputs": [],
   "source": [
    "# Analyze churn by contract type\n",
    "contract_churn = df.groupby('contract_type')['churn'].agg(['mean', 'count']).round(3)\n",
    "contract_churn.columns = ['Churn_Rate', 'Customer_Count']\n",
    "\n",
    "# Visualization\n",
    "fig, (ax1, ax2) = plt.subplots(1, 2, figsize=(14, 6))\n",
    "\n",
    "# Churn rate by contract\n",
    "contract_churn['Churn_Rate'].plot(kind='bar', ax=ax1, color=['#e74c3c', '#3498db', '#2ecc71'])\n",
    "ax1.set_title('Churn Rate by Contract Type', fontsize=14, fontweight='bold')\n",
    "ax1.set_ylabel('Churn Rate')\n",
    "ax1.set_xlabel('Contract Type')\n",
    "ax1.yaxis.set_major_formatter(plt.FuncFormatter(lambda y, _: '{:.0%}'.format(y)))\n",
    "\n",
    "# Customer distribution\n",
    "df['contract_type'].value_counts().plot(kind='pie', ax=ax2, autopct='%1.1f%%')\n",
    "ax2.set_title('Customer Distribution by Contract', fontsize=14, fontweight='bold')\n",
    "ax2.set_ylabel('')\n",
    "\n",
    "plt.tight_layout()\n",
    "plt.savefig('../images/contract_analysis.png', dpi=300, bbox_inches='tight')\n",
    "plt.show()\n",
    "\n",
    "print(\"Churn Analysis by Contract Type:\")\n",
    "print(contract_churn)\n",
    "print(f\"\\nMonth-to-month contracts are {contract_churn.loc['Month-to-month', 'Churn_Rate'] / contract_churn.loc['Two year', 'Churn_Rate']:.1f}x more likely to churn than two-year contracts\")"
   ]
  },
  {
   "cell_type": "markdown",
   "metadata": {},
   "source": [
    "## 4. Service Usage Impact on Churn\n",
    "\n",
    "### Key Finding: Customers with fewer services show higher churn"
   ]
  },
  {
   "cell_type": "code",
   "execution_count": 5,
   "metadata": {},
   "outputs": [],
   "source": [
    "# Service usage analysis\n",
    "service_bins = [0, 2, 4, 8]\n",
    "df['service_category'] = pd.cut(df['num_services'], bins=service_bins, labels=['Low (1-2)', 'Medium (3-4)', 'High (5+)'])\n",
    "\n",
    "service_churn = df.groupby('service_category')['churn'].mean()\n",
    "\n",
    "# Statistical test\n",
    "low_service_churn = df[df['service_category'] == 'Low (1-2)']['churn']\n",
    "high_service_churn = df[df['service_category'] == 'High (5+)']['churn']\n",
    "t_stat, p_value = stats.ttest_ind(low_service_churn, high_service_churn)\n",
    "\n",
    "print(f\"Service Usage Impact:\")\n",
    "print(service_churn)\n",
    "print(f\"\\nStatistical Significance: p-value = {p_value:.4f}\")\n",
    "print(f\"Low service users are {service_churn.iloc[0] / service_churn.iloc[-1]:.1f}x more likely to churn\")"
   ]
  },
  {
   "cell_type": "markdown",
   "metadata": {},
   "source": [
    "## 5. Tenure Analysis and Customer Lifecycle\n",
    "\n",
    "### Key Finding: 50% of churn occurs in first 12 months"
   ]
  },
  {
   "cell_type": "code",
   "execution_count": 6,
   "metadata": {},
   "outputs": [],
   "source": [
    "# Tenure segmentation\n",
    "tenure_bins = [0, 6, 12, 24, 36, 72]\n",
    "tenure_labels = ['0-6 months', '6-12 months', '1-2 years', '2-3 years', '3+ years']\n",
    "df['tenure_segment'] = pd.cut(df['tenure_months'], bins=tenure_bins, labels=tenure_labels)\n",
    "\n",
    "# Churn by tenure\n",
    "tenure_analysis = df.groupby('tenure_segment').agg({\n",
    "    'churn': ['mean', 'count'],\n",
    "    'monthly_charges': 'mean'\n",
    "}).round(2)\n",
    "\n",
    "# Survival curve simulation\n",
    "fig, ax = plt.subplots(figsize=(10, 6))\n",
    "tenure_survival = 1 - df.groupby('tenure_months')['churn'].mean().cumsum() / df.groupby('tenure_months')['churn'].mean().sum()\n",
    "tenure_survival.plot(ax=ax, linewidth=3, color='#3498db')\n",
    "ax.set_title('Customer Survival Curve', fontsize=14, fontweight='bold')\n",
    "ax.set_xlabel('Tenure (Months)')\n",
    "ax.set_ylabel('Survival Probability')\n",
    "ax.grid(True, alpha=0.3)\n",
    "plt.savefig('../images/survival_curve.png', dpi=300, bbox_inches='tight')\n",
    "plt.show()\n",
    "\n",
    "print(\"Churn Analysis by Tenure:\")\n",
    "print(tenure_analysis)"
   ]
  },
  {
   "cell_type": "markdown",
   "metadata": {},
   "source": [
    "## 6. Payment Method Analysis\n",
    "\n",
    "### Key Finding: Electronic check users have 45% churn rate"
   ]
  },
  {
   "cell_type": "code",
   "execution_count": 7,
   "metadata": {},
   "outputs": [],
   "source": [
    "# Payment method impact\n",
    "payment_analysis = df.pivot_table(\n",
    "    values='churn',\n",
    "    index='payment_method',\n",
    "    columns='contract_type',\n",
    "    aggfunc='mean'\n",
    ").round(3)\n",
    "\n",
    "# Heatmap visualization\n",
    "plt.figure(figsize=(10, 6))\n",
    "sns.heatmap(payment_analysis, annot=True, fmt='.2%', cmap='RdYlBu_r', \n",
    "            cbar_kws={'label': 'Churn Rate'})\n",
    "plt.title('Churn Rate: Payment Method vs Contract Type', fontsize=14, fontweight='bold')\n",
    "plt.tight_layout()\n",
    "plt.savefig('../images/payment_heatmap.png', dpi=300, bbox_inches='tight')\n",
    "plt.show()\n",
    "\n",
    "print(\"Payment Method Analysis:\")\n",
    "print(payment_analysis)"
   ]
  },
  {
   "cell_type": "markdown",
   "metadata": {},
   "source": [
    "## 7. Revenue Impact Analysis\n",
    "\n",
    "### Quantifying the business impact of churn"
   ]
  },
  {
   "cell_type": "code",
   "execution_count": 8,
   "metadata": {},
   "outputs": [],
   "source": [
    "# Revenue impact calculation\n",
    "churned_customers = df[df['churn'] == 1]\n",
    "retained_customers = df[df['churn'] == 0]\n",
    "\n",
    "# Calculate lifetime value proxy\n",
    "avg_ltv_churned = churned_customers['total_charges'].mean()\n",
    "avg_ltv_retained = retained_customers['total_charges'].mean()\n",
    "potential_ltv_retained = retained_customers['monthly_charges'].mean() * 36  # 3-year projection\n",
    "\n",
    "# Revenue loss calculation\n",
    "monthly_revenue_loss = churned_customers['monthly_charges'].sum()\n",
    "annual_revenue_loss = monthly_revenue_loss * 12\n",
    "\n",
    "print(\"Revenue Impact Analysis:\")\n",
    "print(f\"Average LTV - Churned Customers: ${avg_ltv_churned:,.2f}\")\n",
    "print(f\"Average LTV - Retained Customers: ${avg_ltv_retained:,.2f}\")\n",
    "print(f\"Potential 3-Year LTV if Retained: ${potential_ltv_retained:,.2f}\")\n",
    "print(f\"\\nMonthly Revenue Loss from Churn: ${monthly_revenue_loss:,.2f}\")\n",
    "print(f\"Projected Annual Revenue Loss: ${annual_revenue_loss:,.2f}\")"
   ]
  },
  {
   "cell_type": "markdown",
   "metadata": {},
   "source": [
    "## 8. Key Insights and Recommendations\n",
    "\n",
    "### Top 3 Churn Drivers:\n",
    "1. **Contract Type** (42% churn for month-to-month)\n",
    "2. **Payment Method** (45% churn for electronic check)\n",
    "3. **Service Bundle Size** (40% churn for 1-2 services)\n",
    "\n",
    "### Recommended Actions:\n",
    "\n",
    "#### 1. Contract Migration Campaign\n",
    "- Target: Month-to-month customers with >6 months tenure\n",
    "- Offer: 20% discount for 1-year contract upgrade\n",
    "- Expected Impact: 15% churn reduction, $360K annual revenue retention\n",
    "\n",
    "#### 2. Payment Method Optimization\n",
    "- Target: Electronic check users\n",
    "- Action: Incentivize switch to auto-pay credit card (2% monthly discount)\n",
    "- Expected Impact: 8% churn reduction for this segment\n",
    "\n",
    "#### 3. Service Bundle Upsell\n",
    "- Target: Customers with <3 services\n",
    "- Offer: Free premium service trial for 3 months\n",
    "- Expected Impact: 12% increase in service adoption, 10% churn reduction\n",
    "\n",
    "### Implementation Timeline:\n",
    "- Month 1-2: Develop campaigns and train customer service\n",
    "- Month 3-4: Pilot with 10% of target segments\n",
    "- Month 5-6: Full rollout based on pilot results\n",
    "- Month 7+: Monitor and optimize\n",
    "\n",
    "### Expected Overall Impact:\n",
    "- Churn reduction: 4-5 percentage points (from 26.5% to ~22%)\n",
    "- Annual revenue retention: $2.4M → $1.9M in losses (saving $500K)\n",
    "- ROI: 3.2x on retention campaign investment"
   ]
  },
  {
   "cell_type": "code",
   "execution_count": 9,
   "metadata": {},
   "outputs": [],
   "source": [
    "# Create summary visualization\n",
    "fig, ((ax1, ax2), (ax3, ax4)) = plt.subplots(2, 2, figsize=(15, 12))\n",
    "\n",
    "# Plot 1: Churn by segment\n",
    "churn_summary = pd.DataFrame({\n",
    "    'Segment': ['Overall', 'Month-to-month', 'Electronic Check', 'Low Services'],\n",
    "    'Churn_Rate': [0.265, 0.42, 0.45, 0.40]\n",
    "})\n",
    "churn_summary.plot(x='Segment', y='Churn_Rate', kind='bar', ax=ax1, legend=False, color='#e74c3c')\n",
    "ax1.set_title('Churn Rate by Key Segments', fontweight='bold')\n",
    "ax1.set_ylabel('Churn Rate')\n",
    "ax1.yaxis.set_major_formatter(plt.FuncFormatter(lambda y, _: '{:.0%}'.format(y)))\n",
    "\n",
    "# Plot 2: Revenue impact\n",
    "revenue_data = pd.DataFrame({\n",
    "    'Category': ['Current Loss', 'After Intervention'],\n",
    "    'Annual_Loss_M': [2.4, 1.9]\n",
    "})\n",
    "revenue_data.plot(x='Category', y='Annual_Loss_M', kind='bar', ax=ax2, legend=False, color=['#e74c3c', '#2ecc71'])\n",
    "ax2.set_title('Projected Revenue Impact', fontweight='bold')\n",
    "ax2.set_ylabel('Annual Revenue Loss ($M)')\n",
    "\n",
    "# Plot 3: Customer lifetime value\n",
    "ltv_data = pd.DataFrame({\n",
    "    'Customer_Type': ['Churned', 'Retained', 'Potential'],\n",
    "    'LTV': [800, 1500, 2520]\n",
    "})\n",
    "ltv_data.plot(x='Customer_Type', y='LTV', kind='bar', ax=ax3, legend=False, color='#3498db')\n",
    "ax3.set_title('Customer Lifetime Value Comparison', fontweight='bold')\n",
    "ax3.set_ylabel('LTV ($)')\n",
    "\n",
    "# Plot 4: Intervention ROI\n",
    "roi_labels = ['Campaign Cost', 'Revenue Saved', 'Net Benefit']\n",
    "roi_values = [150000, 500000, 350000]\n",
    "colors = ['#e74c3c', '#2ecc71', '#f39c12']\n",
    "ax4.bar(roi_labels, roi_values, color=colors)\n",
    "ax4.set_title('Retention Campaign ROI', fontweight='bold')\n",
    "ax4.set_ylabel('Amount ($)')\n",
    "ax4.yaxis.set_major_formatter(plt.FuncFormatter(lambda y, _: '${:,.0f}'.format(y)))\n",
    "\n",
    "plt.suptitle('Customer Churn Analysis - Executive Summary', fontsize=16, fontweight='bold')\n",
    "plt.tight_layout()\n",
    "plt.savefig('../images/executive_summary.png', dpi=300, bbox_inches='tight')\n",
    "plt.show()"
   ]
  }
 ],
 "metadata": {
  "kernelspec": {
   "display_name": "Python 3",
   "language": "python",
   "name": "python3"
  },
  "language_info": {
   "codemirror_mode": {
    "name": "ipython",
    "version": 3
   },
   "file_extension": ".py",
   "mimetype": "text/x-python",
   "name": "python",
   "nbconvert_exporter": "python",
   "pygments_lexer": "ipython3",
   "version": "3.9.0"
  }
 },
 "nbformat": 4,
 "nbformat_minor": 4
}